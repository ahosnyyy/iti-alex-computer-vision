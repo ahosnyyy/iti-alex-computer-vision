{
  "cells": [
    {
      "metadata": {
        "id": "LyHuw50_-SJu"
      },
      "cell_type": "markdown",
      "source": [
        "<a class=\"anchor\" id=\"0\"></a>\n",
        "# MNIST - Deep Neural Network with Keras"
      ]
    },
    {
      "metadata": {
        "id": "C_Tclc3h-SJx"
      },
      "cell_type": "markdown",
      "source": [
        "<a class=\"anchor\" id=\"0.1\"></a>\n",
        "# Table of contents\n",
        "\n",
        "\n",
        "1.\t[Objective of the notebook](#1)\n",
        "1.\t[Import necessary libraries](#2)\n",
        "1.\t[MNIST dataset](#3)\n",
        "1.\t[Data visualization](#4)\n",
        "1.\t[Designing model architecture using Keras](#5)\n",
        "    - 5.1 [Import Keras layers](#5.1)\n",
        "    - 5.2 [Compute the number of labels](#5.2)\n",
        "    - 5.3 [One-Hot Encoding](#5.3)\n",
        "    - 5.4 [Data Preprocessing](#5.4)\n",
        "    - 5.5 [Setting network parameters](#5.5)\n",
        "    - 5.6 [Designing the model architecture](#5.6)\n",
        "    - 5.7 [View model summary](#5.7)\n",
        "1.\t[Implement MLP model using Keras](#6)\n",
        "    - 6.1 [Compile the model with compile() method](#6.1)\n",
        "    - 6.2 [Train the model with fit() method](#6.2)\n",
        "    - 6.3 [Evaluate model performance with evaluate() method](#6.3)\n",
        "1.\t[Overfitting and Regularization](#7)\n",
        "1.\t[Results and Conclusion](#8)"
      ]
    },
    {
      "metadata": {
        "id": "MBPaMxdp-SJx"
      },
      "cell_type": "markdown",
      "source": [
        "# 1. Objective of the notebook <a class=\"anchor\" name=\"1\"></a>\n",
        "\n",
        "- In this notebook, we create a **Multilayer Perceptron (MLP)** model of the MNIST dataset. \n",
        "\n",
        "- **Multilayer Perceptrons (MLPs)** usually mean fully connected networks, that is, each neuron in one layer is connected to all neurons in the next layer. The \"fully-connectedness\" of these networks makes them prone to overfitting the data. \n",
        "\n",
        "- These MLP models are also referred to as either **deep feedforward networks** or **feedforward neural networks**. MLPs are common in simple logistic and linear regression problems.\n",
        "\n",
        "- So, the objective is to create a neural network for identifying numbers based on handwritten digits. For example, when the input to the network is an image of a handwritten number 8, the corresponding prediction must also be the digit 8. \n",
        "\n",
        "- To both train and validate a neural network, there must be a sufficiently large dataset of handwritten digits.\n",
        "\n",
        "- The Modified National Institute of Standards and Technology dataset or MNIST dataset for short, is often considered as the Hello World! of deep learning and is a suitable dataset for handwritten digit classification.\n",
        "\n",
        "- MNIST is used to explain and validate deep learning theories because the 70,000 samples it contains are small, yet sufficiently rich in information (MNIST dataset is described later)."
      ]
    },
    {
      "metadata": {
        "id": "kJgEmAs0-SJx"
      },
      "cell_type": "markdown",
      "source": [
        "So, we will start by importing the necessary libraries:"
      ]
    },
    {
      "metadata": {
        "id": "G-SnMNJC-SJy"
      },
      "cell_type": "markdown",
      "source": [
        "# 2. Import necessary libraries <a class=\"anchor\" name=\"2\"></a>"
      ]
    },
    {
      "metadata": {
        "_uuid": "8f2839f25d086af736a60e9eeb907d3b93b6e0e5",
        "_cell_guid": "b1076dfc-b9ad-4769-8c92-a6c4dae69d19",
        "trusted": true,
        "id": "mbVyX2wb-SJy"
      },
      "cell_type": "code",
      "source": [
        "import numpy as np # linear algebra\n",
        "\n",
        "import matplotlib.pyplot as plt # plotting library\n",
        "%matplotlib inline"
      ],
      "execution_count": 1,
      "outputs": []
    },
    {
      "metadata": {
        "id": "cucOqTl2-SJ0"
      },
      "cell_type": "markdown",
      "source": [
        "# 3. MNIST dataset <a class=\"anchor\" name=\"3\"></a>\n",
        "\n",
        "- MNIST is a collection of handwritten digits ranging from the number 0 to 9. \n",
        "\n",
        "- It has a training set of 60,000 images, and 10,000 test images that are classified into corresponding categories or labels. \n",
        "\n",
        "- To use the MNIST dataset in Keras, an API is provided to download and extract images and labels automatically. \n",
        "\n",
        "- The following Keras code shows how to access MNIST dataset, plot 25 random samples, and count the number of labels for train and test datasets."
      ]
    },
    {
      "metadata": {
        "trusted": true,
        "colab": {
          "base_uri": "https://localhost:8080/"
        },
        "id": "9zZqYlcP-SJ0",
        "outputId": "c7aebafb-4fb3-49be-8301-138b5299ae6a"
      },
      "cell_type": "code",
      "source": [
        "# import dataset\n",
        "from keras.datasets import mnist\n",
        "\n",
        "\n",
        "# load dataset\n",
        "(x_train, y_train),(x_test, y_test) = mnist.load_data()\n",
        "\n",
        "\n",
        "\n",
        "# count the number of unique train labels\n",
        "unique, counts = np.unique(y_train, return_counts=True)\n",
        "print(\"Train labels: \", dict(zip(unique, counts)))\n",
        "\n",
        "\n",
        "\n",
        "# count the number of unique test labels\n",
        "unique, counts = np.unique(y_test, return_counts=True)\n",
        "print(\"\\nTest labels: \", dict(zip(unique, counts)))\n"
      ],
      "execution_count": 2,
      "outputs": [
        {
          "output_type": "stream",
          "name": "stdout",
          "text": [
            "Train labels:  {0: 5923, 1: 6742, 2: 5958, 3: 6131, 4: 5842, 5: 5421, 6: 5918, 7: 6265, 8: 5851, 9: 5949}\n",
            "\n",
            "Test labels:  {0: 980, 1: 1135, 2: 1032, 3: 1010, 4: 982, 5: 892, 6: 958, 7: 1028, 8: 974, 9: 1009}\n"
          ]
        }
      ]
    },
    {
      "metadata": {
        "id": "nvTrHCu_-SJ0"
      },
      "cell_type": "markdown",
      "source": [
        "# 4. Data visualization <a class=\"anchor\" name=\"4\"></a>\n",
        "\n",
        "- The following code will help to sample the 25 random MNIST digits and visualize them."
      ]
    },
    {
      "metadata": {
        "trusted": true,
        "colab": {
          "base_uri": "https://localhost:8080/",
          "height": 303
        },
        "id": "ERh9gCKF-SJ0",
        "outputId": "5565a987-eb06-4f36-9f1f-826c371e55eb"
      },
      "cell_type": "code",
      "source": [
        "# sample 25 mnist digits from train dataset\n",
        "indexes = np.random.randint(0, x_train.shape[0], size=25)\n",
        "images = x_train[indexes]\n",
        "labels = y_train[indexes]\n",
        "\n",
        "\n",
        "# plot the 25 mnist digits\n",
        "plt.figure(figsize=(5,5))\n",
        "for i in range(len(indexes)):\n",
        "    plt.subplot(5, 5, i + 1)\n",
        "    image = images[i]\n",
        "    plt.imshow(image, cmap='gray')\n",
        "    plt.axis('off')\n",
        "    \n",
        "plt.show()\n",
        "plt.savefig(\"mnist-samples.png\")\n",
        "plt.close('all')"
      ],
      "execution_count": 3,
      "outputs": [
        {
          "output_type": "display_data",
          "data": {
            "text/plain": [
              "<Figure size 360x360 with 25 Axes>"
            ],
            "image/png": "[encoded data removed]"
          },
          "metadata": {
            "needs_background": "light"
          }
        }
      ]
    },
    {
      "metadata": {
        "id": "yHwng7Ab-SJ1"
      },
      "cell_type": "markdown",
      "source": [
        "# 5. Designing model architecture using Keras <a class=\"anchor\" name=\"5\"></a>\n",
        "\n",
        "- The MLP model, discussed above can be used for MNIST digits classification. \n",
        "\n",
        "- When the units or perceptrons are exposed, the MLP model is a fully connected network.\n",
        "\n",
        "- The following code shows how to design the MLP model architecture using Keras.\n",
        "\n",
        "- The first step in designing the model architecture is to import the Keras layers. This can be done as follows:\n",
        "\n",
        "\n"
      ]
    },
    {
      "metadata": {
        "id": "bV7YYJSS-SJ1"
      },
      "cell_type": "markdown",
      "source": [
        "## 5.1 Import Keras layers <a class=\"anchor\" name=\"5.1\"></a>"
      ]
    },
    {
      "metadata": {
        "_uuid": "d629ff2d2480ee46fbb7e2d37f6b5fab8052498a",
        "_cell_guid": "79c7e3d0-c299-4dcb-8224-4455121ee9b0",
        "trusted": true,
        "id": "49m7ptlv-SJ1"
      },
      "cell_type": "code",
      "source": [
        "from keras.models import Sequential\n",
        "from keras.layers import Dense, Activation, Dropout\n",
        "from keras.utils import to_categorical, plot_model"
      ],
      "execution_count": 4,
      "outputs": []
    },
    {
      "metadata": {
        "id": "FUVa4y04-SJ1"
      },
      "cell_type": "markdown",
      "source": [
        "## 5.2 Compute the number of labels <a class=\"anchor\" name=\"5.2\"></a>\n",
        "\n",
        "- Now, the data must be in the correct shape and format. \n",
        "\n",
        "- After loading the MNIST dataset, the number of labels is computed as:"
      ]
    },
    {
      "metadata": {
        "trusted": true,
        "colab": {
          "base_uri": "https://localhost:8080/"
        },
        "id": "vnwoDW7W-SJ1",
        "outputId": "a0975c70-000c-4bed-8b39-ee7be8dac977"
      },
      "cell_type": "code",
      "source": [
        "# compute the number of labels\n",
        "num_labels = len(np.unique(y_train))\n",
        "num_labels"
      ],
      "execution_count": 5,
      "outputs": [
        {
          "output_type": "execute_result",
          "data": {
            "text/plain": [
              "10"
            ]
          },
          "metadata": {},
          "execution_count": 5
        }
      ]
    },
    {
      "metadata": {
        "id": "ENdBzRaR-SJ1"
      },
      "cell_type": "markdown",
      "source": [
        "## 5.3 One-Hot Encoding <a class=\"anchor\" name=\"5.3\"></a>\n",
        "\n",
        "- At this point, the labels are in digits format, 0 to 9. \n",
        "\n",
        "- This sparse scalar representation of labels is not suitable for the neural network prediction layer that outputs probabilities per class. \n",
        "\n",
        "- A more suitable format is called a one-hot vector, a 10-dim vector with all elements 0, except for the index of the digit class. \n",
        "\n",
        "- For example, if the label is 2, the equivalent one-hot vector is [0,0,1,0,0,0,0,0,0,0]. The first label has index 0.\n",
        "\n",
        "- The following lines convert each label into a one-hot vector:"
      ]
    },
    {
      "metadata": {
        "trusted": true,
        "id": "UW7oSu0G-SJ1"
      },
      "cell_type": "code",
      "source": [
        "# convert to one-hot vector\n",
        "y_train = to_categorical(y_train)\n",
        "y_test = to_categorical(y_test)"
      ],
      "execution_count": 6,
      "outputs": []
    },
    {
      "metadata": {
        "id": "THsnpcjf-SJ2"
      },
      "cell_type": "markdown",
      "source": [
        "## 5.4 Data Preprocessing <a class=\"anchor\" name=\"5.4\"></a>\n",
        "\n",
        "\n",
        "- In deep learning, data is stored in tensors. The term tensor applies to a scalar (0D tensor), vector (1D tensor), matrix (2D tensor), and a multi-dimensional tensor.\n",
        "\n",
        "- The rest code computes the image dimensions, input_size of the first Dense layer and scales each pixel value from 0 to 255 to range from 0.0 to 1.0. Although raw pixel values can be used directly, it is better to normalize the input data as to avoid large gradient values that could make training difficult. \n",
        "\n",
        "- The output of the network is also normalized. After training, there is an option to put everything back to the integer pixel values by multiplying the output tensor by 255.  \n",
        "\n",
        "- The proposed model is based on MLP layers. Therefore, the input is expected to be a 1D tensor. So, x_train and x_test are reshaped to [60000, 28 * 28] and [10000, 28 * 28], respectively."
      ]
    },
    {
      "metadata": {
        "trusted": true,
        "colab": {
          "base_uri": "https://localhost:8080/"
        },
        "id": "-E00Zlcd-SJ2",
        "outputId": "a262b7b6-81c6-4e0a-f8f3-26648bd5fbbb"
      },
      "cell_type": "code",
      "source": [
        "# image dimensions\n",
        "image_size = x_train.shape\n",
        "input_size = image_size[1] * image_size[2]\n",
        "input_size"
      ],
      "execution_count": 7,
      "outputs": [
        {
          "output_type": "execute_result",
          "data": {
            "text/plain": [
              "784"
            ]
          },
          "metadata": {},
          "execution_count": 7
        }
      ]
    },
    {
      "metadata": {
        "trusted": true,
        "id": "1URY9VBL-SJ2"
      },
      "cell_type": "code",
      "source": [
        "# resize and normalize\n",
        "x_train = np.reshape(x_train, [-1, input_size])\n",
        "x_train = x_train.astype('float32') / 255\n",
        "x_test = np.reshape(x_test, [-1, input_size])\n",
        "x_test = x_test.astype('float32') / 255"
      ],
      "execution_count": 8,
      "outputs": []
    },
    {
      "metadata": {
        "id": "CzFbGM3h-SJ2"
      },
      "cell_type": "markdown",
      "source": [
        "## 5.5 Setting network parameters <a class=\"anchor\" name=\"5.5\"></a>\n",
        "\n",
        "- Now, we will set the network parameters as follows:"
      ]
    },
    {
      "metadata": {
        "trusted": true,
        "id": "VNVPWBAQ-SJ2"
      },
      "cell_type": "code",
      "source": [
        "# network parameters\n",
        "batch_size = 128\n",
        "hidden_units = 256\n",
        "dropout = 0.45"
      ],
      "execution_count": 9,
      "outputs": []
    },
    {
      "metadata": {
        "id": "EO0S2wgX-SJ2"
      },
      "cell_type": "markdown",
      "source": [
        "- The **batch_size** argument indicates the number of data that we will use for each update of the model parameters.\n",
        "\n",
        "- **Hidden_units** shows the number of hidden units.\n",
        "\n",
        "- **Dropout** is the dropout rate (more on this in section 7 - **Overfitting and Regularization**)."
      ]
    },
    {
      "metadata": {
        "id": "Ez-smxsJ-SJ2"
      },
      "cell_type": "markdown",
      "source": [
        "## 5.6 Designing the model architecture <a class=\"anchor\" name=\"5.6\"></a>\n",
        "\n",
        "\n",
        "- The next step is to design the model architecture. The proposed model is made of three MLP layers. \n",
        "\n",
        "- In Keras, an MLP layer is referred to as Dense, which stands for the densely connected layer. \n",
        "\n",
        "- Both the first and second MLP layers are identical in nature with 256 units each, followed by relu activation and dropout. \n",
        "\n",
        "- 256 units are chosen since 128, 512 and 1,024 units have lower performance metrics. At 128 units, the network converges quickly, but has a lower test accuracy. The added number units for 512 or 1,024 does not increase the test accuracy significantly."
      ]
    },
    {
      "metadata": {
        "id": "jogH5nTz-SJ2"
      },
      "cell_type": "markdown",
      "source": [
        "- The main data structure in Keras is the Sequential class, which allows the creation of a basic neural network.\n",
        "\n",
        "- The Sequential class of the Keras library is a wrapper for the sequential neural network model that Keras offers and can be created in the following way:\n",
        "\n",
        "`from keras.models import Sequential`\n",
        "\n",
        "`model = Sequential()`\n",
        "\n",
        "- The model in Keras is considered as a sequence of layers and each of them gradually “distills” the input data to obtain the desired output.\n",
        "\n",
        "- In Keras, we can add the required types of layers through the **add()** method."
      ]
    },
    {
      "metadata": {
        "trusted": true,
        "id": "Z37qXysY-SJ2"
      },
      "cell_type": "code",
      "source": [
        "# model is a 3-layer MLP with ReLU and dropout after each layer\n",
        "model = Sequential()\n",
        "model.add(Dense(hidden_units, input_dim=input_size))\n",
        "model.add(Activation('relu'))\n",
        "model.add(Dropout(dropout))\n",
        "model.add(Dense(hidden_units))\n",
        "model.add(Activation('relu'))\n",
        "model.add(Dropout(dropout))\n",
        "model.add(Dense(num_labels))\n",
        "model.add(Activation('softmax'))"
      ],
      "execution_count": 10,
      "outputs": []
    },
    {
      "metadata": {
        "id": "TP-mMCYa-SJ3"
      },
      "cell_type": "markdown",
      "source": [
        "- Since a Dense layer is a linear operation, a sequence of Dense layers can only approximate a linear function. \n",
        "\n",
        "- The problem is that the MNIST digit classification is inherently a non-linear process. Inserting a relu activation between Dense layers will enable MLPs to model non-linear mappings. \n",
        "\n",
        "- relu or Rectified Linear Unit (ReLU) is a simple non-linear function. It allows positive inputs to pass through unchanged while clamping everything else to zero."
      ]
    },
    {
      "metadata": {
        "id": "nRk74pdL-SJ3"
      },
      "cell_type": "markdown",
      "source": [
        "## 5.7 View model summary <a class=\"anchor\" name=\"5.7\"></a>\n",
        "\n",
        "- Keras library provides us **summary()** method to check the model description."
      ]
    },
    {
      "metadata": {
        "trusted": true,
        "colab": {
          "base_uri": "https://localhost:8080/"
        },
        "id": "ADs90-E7-SJ3",
        "outputId": "72f2a1b5-7411-4661-c37f-8b5386011495"
      },
      "cell_type": "code",
      "source": [
        "model.summary()"
      ],
      "execution_count": 11,
      "outputs": [
        {
          "output_type": "stream",
          "name": "stdout",
          "text": [
            "Model: \"sequential\"\n",
            "_________________________________________________________________\n",
            " Layer (type)                Output Shape              Param #   \n",
            "=================================================================\n",
            " dense (Dense)               (None, 256)               200960    \n",
            "                                                                 \n",
            " activation (Activation)     (None, 256)               0         \n",
            "                                                                 \n",
            " dropout (Dropout)           (None, 256)               0         \n",
            "                                                                 \n",
            " dense_1 (Dense)             (None, 256)               65792     \n",
            "                                                                 \n",
            " activation_1 (Activation)   (None, 256)               0         \n",
            "                                                                 \n",
            " dropout_1 (Dropout)         (None, 256)               0         \n",
            "                                                                 \n",
            " dense_2 (Dense)             (None, 10)                2570      \n",
            "                                                                 \n",
            " activation_2 (Activation)   (None, 10)                0         \n",
            "                                                                 \n",
            "=================================================================\n",
            "Total params: 269,322\n",
            "Trainable params: 269,322\n",
            "Non-trainable params: 0\n",
            "_________________________________________________________________\n"
          ]
        }
      ]
    },
    {
      "metadata": {
        "id": "AbwKu2E3-SJ3"
      },
      "cell_type": "markdown",
      "source": [
        "- The above listing shows the model summary of the proposed network. It requires a total of 269,322 parameters.\n",
        "\n",
        "- This is substantial considering that we have a simple task of classifying MNIST digits. So, MLPs are not parameter efficient. \n",
        "\n",
        "- The total number of parameters required can be computed as follows:\n",
        "\n",
        "  - From input to Dense layer: 784 × 256 + 256 = 200,960. \n",
        "  \n",
        "  - From first Dense to second Dense: 256 × 256 + 256 = 65,792. \n",
        "  \n",
        "  - From second Dense to the output layer: 10 × 256 + 10 = 2,570. \n",
        "  \n",
        "  - The total is 200,690 + 65,972 + 2,570 = 269,322."
      ]
    },
    {
      "metadata": {
        "id": "05EDrKxv-SJ3"
      },
      "cell_type": "markdown",
      "source": [
        "- Another way of verifying the network is by calling the **plot_model()** method as follows:"
      ]
    },
    {
      "metadata": {
        "trusted": true,
        "colab": {
          "base_uri": "https://localhost:8080/",
          "height": 976
        },
        "id": "tMTY2Lr9-SJ3",
        "outputId": "203a4c1d-a36a-4830-c2e2-56a7457b9b20"
      },
      "cell_type": "code",
      "source": [
        "plot_model(model, to_file='mlp-mnist.png', show_shapes=True)"
      ],
      "execution_count": 12,
      "outputs": [
        {
          "output_type": "execute_result",
          "data": {
            "image/png": "[encoded data removed]",
            "text/plain": [
              "<IPython.core.display.Image object>"
            ]
          },
          "metadata": {},
          "execution_count": 12
        }
      ]
    },
    {
      "metadata": {
        "id": "T9fKpv7x-SJ3"
      },
      "cell_type": "markdown",
      "source": [
        "# 6. Implement MLP model using Keras <a class=\"anchor\" name=\"6\"></a>\n",
        "\n",
        "\n",
        "- The implementation of MLP model in Keras comprises of three steps:-\n",
        "\n",
        "  - Compiling the model with the compile() method.\n",
        "  \n",
        "  - Training the model with fit() method.\n",
        "  \n",
        "  - Evaluating the model performance with evaluate() method."
      ]
    },
    {
      "metadata": {
        "id": "TVcTHcLd-SJ3"
      },
      "cell_type": "markdown",
      "source": [
        "## 6.1 Compile the model with compile() method <a class=\"anchor\" name=\"6.1\"></a>\n",
        "\n",
        "\n",
        "- Compilation of model can be done as follows:"
      ]
    },
    {
      "metadata": {
        "trusted": true,
        "id": "Cj57PUcM-SJ3"
      },
      "cell_type": "code",
      "source": [
        "model.compile(loss='categorical_crossentropy', \n",
        "              optimizer='adam',\n",
        "              metrics=['accuracy'])"
      ],
      "execution_count": 13,
      "outputs": []
    },
    {
      "metadata": {
        "id": "fi_vmqgr-SJ3"
      },
      "cell_type": "markdown",
      "source": [
        "### Loss function (categorical_crossentropy)\n",
        "\n",
        "- How far the predicted tensor is from the one-hot ground truth vector is called **loss**.\n",
        "\n",
        "- In this example, we use **categorical_crossentropy** as the loss function. It is the negative of the sum of the product of the target and the logarithm of the prediction. \n",
        "\n",
        "- There are other loss functions in Keras, such as mean_absolute_error and binary_crossentropy. The choice of the loss function is not arbitrary but should be a criterion that the model is learning. \n",
        "\n",
        "- For classification by category, categorical_crossentropy or mean_squared_error is a good choice after the softmax activation layer. The binary_crossentropy loss function is normally used after the sigmoid activation layer while mean_squared_error is an option for tanh output."
      ]
    },
    {
      "metadata": {
        "id": "2SoT2Lil-SJ4"
      },
      "cell_type": "markdown",
      "source": [
        "### Optimization (optimizer adam)\n",
        "\n",
        "- With optimization, the objective is to minimize the loss function. The idea is that if the loss is reduced to an acceptable level, the model has indirectly learned the function mapping input to output.\n",
        "\n",
        "- In Keras, there are several choices for optimizers. The most commonly used optimizers are; **Stochastic Gradient Descent (SGD)**, **Adaptive Moments (Adam)** and **Root Mean Squared Propagation (RMSprop)**. \n",
        "\n",
        "- Each optimizer features tunable parameters like learning rate, momentum, and decay. \n",
        "\n",
        "- Adam and RMSprop are variations of SGD with adaptive learning rates. In the proposed classifier network, Adam is used since it has the highest test accuracy."
      ]
    },
    {
      "metadata": {
        "id": "L_FA4Qo4-SJ4"
      },
      "cell_type": "markdown",
      "source": [
        "### Metrics (accuracy)\n",
        "\n",
        "- Performance metrics are used to determine if a model has learned the underlying data distribution. The default metric in Keras is loss. \n",
        "\n",
        "- During training, validation, and testing, other metrics such as **accuracy** can also be included. \n",
        "\n",
        "- **Accuracy** is the percent, or fraction, of correct predictions based on ground truth."
      ]
    },
    {
      "metadata": {
        "id": "ydXredIu-SJ4"
      },
      "cell_type": "markdown",
      "source": [
        "## 6.2 Train the model with fit() method <a class=\"anchor\" name=\"6.2\"></a>"
      ]
    },
    {
      "metadata": {
        "trusted": true,
        "colab": {
          "base_uri": "https://localhost:8080/"
        },
        "id": "xM6YG7ef-SJ4",
        "outputId": "83d45386-d219-43c8-c01f-140e83fea0c3"
      },
      "cell_type": "code",
      "source": [
        "model.fit(x_train, y_train, epochs=20, batch_size=batch_size)"
      ],
      "execution_count": 14,
      "outputs": [
        {
          "output_type": "stream",
          "name": "stdout",
          "text": [
            "Epoch 1/20\n",
            "469/469 [==============================] - 8s 12ms/step - loss: 0.4244 - accuracy: 0.8687\n",
            "Epoch 2/20\n",
            "469/469 [==============================] - 6s 13ms/step - loss: 0.1940 - accuracy: 0.9422\n",
            "Epoch 3/20\n",
            "469/469 [==============================] - 4s 9ms/step - loss: 0.1520 - accuracy: 0.9554\n",
            "Epoch 4/20\n",
            "469/469 [==============================] - 3s 7ms/step - loss: 0.1296 - accuracy: 0.9605\n",
            "Epoch 5/20\n",
            "469/469 [==============================] - 4s 8ms/step - loss: 0.1151 - accuracy: 0.9650\n",
            "Epoch 6/20\n",
            "469/469 [==============================] - 3s 7ms/step - loss: 0.1036 - accuracy: 0.9681\n",
            "Epoch 7/20\n",
            "469/469 [==============================] - 3s 7ms/step - loss: 0.0942 - accuracy: 0.9707\n",
            "Epoch 8/20\n",
            "469/469 [==============================] - 4s 8ms/step - loss: 0.0903 - accuracy: 0.9711\n",
            "Epoch 9/20\n",
            "469/469 [==============================] - 4s 8ms/step - loss: 0.0835 - accuracy: 0.9735\n",
            "Epoch 10/20\n",
            "469/469 [==============================] - 4s 7ms/step - loss: 0.0775 - accuracy: 0.9756\n",
            "Epoch 11/20\n",
            "469/469 [==============================] - 3s 7ms/step - loss: 0.0741 - accuracy: 0.9763\n",
            "Epoch 12/20\n",
            "469/469 [==============================] - 5s 10ms/step - loss: 0.0732 - accuracy: 0.9774\n",
            "Epoch 13/20\n",
            "469/469 [==============================] - 3s 7ms/step - loss: 0.0696 - accuracy: 0.9776\n",
            "Epoch 14/20\n",
            "469/469 [==============================] - 3s 7ms/step - loss: 0.0649 - accuracy: 0.9783\n",
            "Epoch 15/20\n",
            "469/469 [==============================] - 4s 8ms/step - loss: 0.0627 - accuracy: 0.9798\n",
            "Epoch 16/20\n",
            "469/469 [==============================] - 3s 7ms/step - loss: 0.0608 - accuracy: 0.9809\n",
            "Epoch 17/20\n",
            "469/469 [==============================] - 3s 7ms/step - loss: 0.0585 - accuracy: 0.9813\n",
            "Epoch 18/20\n",
            "469/469 [==============================] - 4s 8ms/step - loss: 0.0575 - accuracy: 0.9817\n",
            "Epoch 19/20\n",
            "469/469 [==============================] - 4s 8ms/step - loss: 0.0558 - accuracy: 0.9823\n",
            "Epoch 20/20\n",
            "469/469 [==============================] - 3s 7ms/step - loss: 0.0519 - accuracy: 0.9829\n"
          ]
        },
        {
          "output_type": "execute_result",
          "data": {
            "text/plain": [
              "<keras.callbacks.History at 0x7f065ff9ed90>"
            ]
          },
          "metadata": {},
          "execution_count": 14
        }
      ]
    },
    {
      "metadata": {
        "id": "bswCnhG8-SJ4"
      },
      "cell_type": "markdown",
      "source": [
        "## 6.3 Evaluating model performance with evaluate() method <a class=\"anchor\" name=\"6.3\"></a>"
      ]
    },
    {
      "metadata": {
        "trusted": true,
        "colab": {
          "base_uri": "https://localhost:8080/"
        },
        "id": "LIrAYOQN-SJ4",
        "outputId": "448ce97f-b6b0-4c51-8c73-fdadcb9e6404"
      },
      "cell_type": "code",
      "source": [
        "loss, acc = model.evaluate(x_test, y_test, batch_size=batch_size)\n",
        "print(\"\\nTest accuracy: %.1f%%\" % (100.0 * acc))"
      ],
      "execution_count": 15,
      "outputs": [
        {
          "output_type": "stream",
          "name": "stdout",
          "text": [
            "79/79 [==============================] - 0s 3ms/step - loss: 0.0686 - accuracy: 0.9814\n",
            "\n",
            "Test accuracy: 98.1%\n"
          ]
        }
      ]
    },
    {
      "metadata": {
        "id": "V0ujywDh-SJ4"
      },
      "cell_type": "markdown",
      "source": [
        "# 7. Overfitting and Regularization <a class=\"anchor\" name=\"7\"></a>\n",
        "\n",
        "- A neural network has the property to memorize the characteristics of training data. This is called **overfitting**.\n",
        "\n",
        "- In such a case, the network fails to generalize when subject to the test data.\n",
        "\n",
        "- To avoid this tendency, the model uses a regularizing layer or function. A commonly used regularizing layer is referred to as a **Dropout layer**.\n",
        "\n",
        "- Given a dropout rate (dropout=0.45), the **Dropout layer** randomly removes the fraction of units from participating in the next layer. For example, if the first layer has 256 units, after dropout=0.45 is applied, only (1 - 0.45) * 256 units = 140 units from layer 1 participate in layer 2.\n",
        "\n",
        "- The Dropout layer makes neural networks robust to unforeseen input data because the network is trained to predict correctly, even if some units are missing. \n",
        "\n",
        "- The dropout is not used in the output layer and it is only active during training. Moreover, dropout is not present during prediction.\n",
        "\n",
        "- There are regularizers that can be used other than dropouts like l1 or l2. In Keras, the bias, weight and activation output can be regularized per layer. - l1 and l2 favor smaller parameter values by adding a penalty function. Both l1 and l2 enforce the penalty using a fraction of the sum of absolute (l1) or square (l2) of parameter values. \n",
        "\n",
        "- So, the penalty function forces the optimizer to find parameter values that are small. Neural networks with small parameter values are more insensitive to the presence of noise from within the input data.\n",
        "\n",
        "- So, the l2 weight regularizer with fraction=0.001 can be implemented as:"
      ]
    },
    {
      "metadata": {
        "trusted": true,
        "id": "1Y4GzBVl-SJ4"
      },
      "cell_type": "code",
      "source": [
        "from keras.regularizers import l2\n",
        "model.add(Dense(hidden_units,\n",
        "                kernel_regularizer=l2(0.001),\n",
        "                input_dim=input_size))"
      ],
      "execution_count": 16,
      "outputs": []
    },
    {
      "metadata": {
        "id": "gu6YuvxU-SJ4"
      },
      "cell_type": "markdown",
      "source": [
        "- No additional layer is added if l1 or l2 regularization is used. The regularization is imposed in the Dense layer internally. For the proposed model, dropout still has a better performance than l2."
      ]
    },
    {
      "metadata": {
        "id": "8sSHO66M-SJ4"
      },
      "cell_type": "markdown",
      "source": [
        "# 8. Results and Conclusion <a class=\"anchor\" name=\"8\"></a>\n",
        "\n",
        "- In this kernel, I build a dense neural network model to classify the MNIST digits and predict accuracy.\n",
        "\n",
        "- We get the test accuracy of 98.3%.\n",
        "\n",
        "- The accuracy tells us that our ANN model classifies the digits 98.3% of time correctly.\n",
        "\n"
      ]
    }
  ],
  "metadata": {
    "kernelspec": {
      "name": "python3",
      "display_name": "Python 3",
      "language": "python"
    },
    "language_info": {
      "name": "python",
      "version": "3.6.6",
      "mimetype": "text/x-python",
      "codemirror_mode": {
        "name": "ipython",
        "version": 3
      },
      "pygments_lexer": "ipython3",
      "nbconvert_exporter": "python",
      "file_extension": ".py"
    },
    "colab": {
      "provenance": []
    }
  },
  "nbformat": 4,
  "nbformat_minor": 0
}