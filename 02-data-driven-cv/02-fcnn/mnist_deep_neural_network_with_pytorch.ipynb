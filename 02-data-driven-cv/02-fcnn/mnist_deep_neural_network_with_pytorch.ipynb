{
  "nbformat": 4,
  "nbformat_minor": 0,
  "metadata": {
    "colab": {
      "provenance": []
    },
    "kernelspec": {
      "name": "python3",
      "display_name": "Python 3"
    },
    "language_info": {
      "name": "python"
    }
  },
  "cells": [
    {
      "cell_type": "code",
      "execution_count": 1,
      "metadata": {
        "id": "e-Jy3vXR2nFq"
      },
      "outputs": [],
      "source": [
        "import torch\n",
        "import torch.nn as nn\n",
        "import torch.optim as optim\n",
        "from torchvision import datasets, transforms"
      ]
    },
    {
      "cell_type": "code",
      "source": [
        "# Define the transformation to apply to the MNIST dataset\n",
        "transform = transforms.Compose([transforms.ToTensor(),\n",
        "                                transforms.Normalize((0.1307,), (0.3081,))])"
      ],
      "metadata": {
        "id": "GvD_R4Cf271u"
      },
      "execution_count": 2,
      "outputs": []
    },
    {
      "cell_type": "code",
      "source": [
        "# Load the MNIST dataset\n",
        "train_dataset = datasets.MNIST(root='./data', train=True, download=True, transform=transform)\n",
        "test_dataset = datasets.MNIST(root='./data', train=False, download=True, transform=transform)"
      ],
      "metadata": {
        "id": "BWr7wlzK24kA"
      },
      "execution_count": 3,
      "outputs": []
    },
    {
      "cell_type": "code",
      "source": [
        "# Define the data loader\n",
        "train_loader = torch.utils.data.DataLoader(train_dataset, batch_size=64, shuffle=True)\n",
        "test_loader = torch.utils.data.DataLoader(test_dataset, batch_size=64, shuffle=False)"
      ],
      "metadata": {
        "id": "ZEDeDqDg2-at"
      },
      "execution_count": 4,
      "outputs": []
    },
    {
      "cell_type": "code",
      "source": [
        "class FCNN(nn.Module):\n",
        "    def __init__(self):\n",
        "        super(FCNN, self).__init__()\n",
        "        self.fc1 = nn.Linear(28 * 28, 512)\n",
        "        self.fc2 = nn.Linear(512, 256)\n",
        "        self.fc3 = nn.Linear(256, 10)\n",
        "        self.relu = nn.ReLU()\n",
        "        \n",
        "    def forward(self, x):\n",
        "        x = x.view(x.size(0), -1)\n",
        "        x = self.relu(self.fc1(x))\n",
        "        x = self.relu(self.fc2(x))\n",
        "        x = self.fc3(x)\n",
        "        return x"
      ],
      "metadata": {
        "id": "w7o7eXCJ2ue_"
      },
      "execution_count": 5,
      "outputs": []
    },
    {
      "cell_type": "code",
      "source": [
        "# Define the model, optimizer, and loss function\n",
        "model = FCNN()\n",
        "optimizer = optim.SGD(model.parameters(), lr=0.01, momentum=0.5)\n",
        "criterion = nn.CrossEntropyLoss()"
      ],
      "metadata": {
        "id": "MP48mnEy3BjF"
      },
      "execution_count": 6,
      "outputs": []
    },
    {
      "cell_type": "code",
      "source": [
        "# Train the model\n",
        "num_epochs = 10\n",
        "for epoch in range(num_epochs):\n",
        "    model.train()\n",
        "    for batch_idx, (data, target) in enumerate(train_loader):\n",
        "        optimizer.zero_grad()\n",
        "        output = model(data)\n",
        "        loss = criterion(output, target)\n",
        "        loss.backward()\n",
        "        optimizer.step()\n",
        "\n",
        "        if batch_idx % 100 == 0:\n",
        "            print('Epoch: {}, Batch index: {}, Loss: {:.4f}'.format(epoch, batch_idx, loss.item()))\n",
        "\n",
        "    model.eval()\n",
        "    with torch.no_grad():\n",
        "        correct = 0\n",
        "        total = 0\n",
        "        for data, target in test_loader:\n",
        "            output = model(data)\n",
        "            _, predicted = torch.max(output.data, 1)\n",
        "            total += target.size(0)\n",
        "            correct += (predicted == target).sum().item()\n",
        "\n",
        "        accuracy = correct / total\n",
        "        print('Epoch: {}, Accuracy: {:.2f}%'.format(epoch, 100 * accuracy))"
      ],
      "metadata": {
        "id": "4yE1Kq1q3B_h",
        "colab": {
          "base_uri": "https://localhost:8080/"
        },
        "outputId": "15721b87-7082-47f2-fc75-1c89d1db2a99"
      },
      "execution_count": 7,
      "outputs": [
        {
          "output_type": "stream",
          "name": "stdout",
          "text": [
            "Epoch: 0, Batch index: 0, Loss: 2.3151\n",
            "Epoch: 0, Batch index: 100, Loss: 1.0681\n",
            "Epoch: 0, Batch index: 200, Loss: 0.5415\n",
            "Epoch: 0, Batch index: 300, Loss: 0.5540\n",
            "Epoch: 0, Batch index: 400, Loss: 0.3818\n",
            "Epoch: 0, Batch index: 500, Loss: 0.2644\n",
            "Epoch: 0, Batch index: 600, Loss: 0.3227\n",
            "Epoch: 0, Batch index: 700, Loss: 0.2413\n",
            "Epoch: 0, Batch index: 800, Loss: 0.2809\n",
            "Epoch: 0, Batch index: 900, Loss: 0.2634\n",
            "Epoch: 0, Accuracy: 92.33%\n",
            "Epoch: 1, Batch index: 0, Loss: 0.3673\n",
            "Epoch: 1, Batch index: 100, Loss: 0.3470\n",
            "Epoch: 1, Batch index: 200, Loss: 0.2280\n",
            "Epoch: 1, Batch index: 300, Loss: 0.1070\n",
            "Epoch: 1, Batch index: 400, Loss: 0.2684\n",
            "Epoch: 1, Batch index: 500, Loss: 0.1660\n",
            "Epoch: 1, Batch index: 600, Loss: 0.2012\n",
            "Epoch: 1, Batch index: 700, Loss: 0.2362\n",
            "Epoch: 1, Batch index: 800, Loss: 0.1754\n",
            "Epoch: 1, Batch index: 900, Loss: 0.2054\n",
            "Epoch: 1, Accuracy: 94.50%\n",
            "Epoch: 2, Batch index: 0, Loss: 0.1487\n",
            "Epoch: 2, Batch index: 100, Loss: 0.1156\n",
            "Epoch: 2, Batch index: 200, Loss: 0.0921\n",
            "Epoch: 2, Batch index: 300, Loss: 0.1749\n",
            "Epoch: 2, Batch index: 400, Loss: 0.2362\n",
            "Epoch: 2, Batch index: 500, Loss: 0.2049\n",
            "Epoch: 2, Batch index: 600, Loss: 0.3660\n",
            "Epoch: 2, Batch index: 700, Loss: 0.3127\n",
            "Epoch: 2, Batch index: 800, Loss: 0.2671\n",
            "Epoch: 2, Batch index: 900, Loss: 0.1057\n",
            "Epoch: 2, Accuracy: 95.71%\n",
            "Epoch: 3, Batch index: 0, Loss: 0.1585\n",
            "Epoch: 3, Batch index: 100, Loss: 0.1540\n",
            "Epoch: 3, Batch index: 200, Loss: 0.1878\n",
            "Epoch: 3, Batch index: 300, Loss: 0.2694\n",
            "Epoch: 3, Batch index: 400, Loss: 0.2451\n",
            "Epoch: 3, Batch index: 500, Loss: 0.2155\n",
            "Epoch: 3, Batch index: 600, Loss: 0.1206\n",
            "Epoch: 3, Batch index: 700, Loss: 0.1907\n",
            "Epoch: 3, Batch index: 800, Loss: 0.1804\n",
            "Epoch: 3, Batch index: 900, Loss: 0.0834\n",
            "Epoch: 3, Accuracy: 96.33%\n",
            "Epoch: 4, Batch index: 0, Loss: 0.0872\n",
            "Epoch: 4, Batch index: 100, Loss: 0.2061\n",
            "Epoch: 4, Batch index: 200, Loss: 0.0493\n",
            "Epoch: 4, Batch index: 300, Loss: 0.0786\n",
            "Epoch: 4, Batch index: 400, Loss: 0.0336\n",
            "Epoch: 4, Batch index: 500, Loss: 0.0814\n",
            "Epoch: 4, Batch index: 600, Loss: 0.0229\n",
            "Epoch: 4, Batch index: 700, Loss: 0.0980\n",
            "Epoch: 4, Batch index: 800, Loss: 0.1451\n",
            "Epoch: 4, Batch index: 900, Loss: 0.0750\n",
            "Epoch: 4, Accuracy: 96.74%\n",
            "Epoch: 5, Batch index: 0, Loss: 0.0544\n",
            "Epoch: 5, Batch index: 100, Loss: 0.1175\n",
            "Epoch: 5, Batch index: 200, Loss: 0.0244\n",
            "Epoch: 5, Batch index: 300, Loss: 0.0536\n",
            "Epoch: 5, Batch index: 400, Loss: 0.0918\n",
            "Epoch: 5, Batch index: 500, Loss: 0.1223\n",
            "Epoch: 5, Batch index: 600, Loss: 0.0757\n",
            "Epoch: 5, Batch index: 700, Loss: 0.0535\n",
            "Epoch: 5, Batch index: 800, Loss: 0.0641\n",
            "Epoch: 5, Batch index: 900, Loss: 0.1122\n",
            "Epoch: 5, Accuracy: 97.07%\n",
            "Epoch: 6, Batch index: 0, Loss: 0.0861\n",
            "Epoch: 6, Batch index: 100, Loss: 0.0703\n",
            "Epoch: 6, Batch index: 200, Loss: 0.0708\n",
            "Epoch: 6, Batch index: 300, Loss: 0.0531\n",
            "Epoch: 6, Batch index: 400, Loss: 0.2484\n",
            "Epoch: 6, Batch index: 500, Loss: 0.1189\n",
            "Epoch: 6, Batch index: 600, Loss: 0.0516\n",
            "Epoch: 6, Batch index: 700, Loss: 0.0523\n",
            "Epoch: 6, Batch index: 800, Loss: 0.0666\n",
            "Epoch: 6, Batch index: 900, Loss: 0.0597\n",
            "Epoch: 6, Accuracy: 97.32%\n",
            "Epoch: 7, Batch index: 0, Loss: 0.0314\n",
            "Epoch: 7, Batch index: 100, Loss: 0.0242\n",
            "Epoch: 7, Batch index: 200, Loss: 0.1184\n",
            "Epoch: 7, Batch index: 300, Loss: 0.1040\n",
            "Epoch: 7, Batch index: 400, Loss: 0.0104\n",
            "Epoch: 7, Batch index: 500, Loss: 0.0298\n",
            "Epoch: 7, Batch index: 600, Loss: 0.0628\n",
            "Epoch: 7, Batch index: 700, Loss: 0.1034\n",
            "Epoch: 7, Batch index: 800, Loss: 0.1274\n",
            "Epoch: 7, Batch index: 900, Loss: 0.0799\n",
            "Epoch: 7, Accuracy: 97.58%\n",
            "Epoch: 8, Batch index: 0, Loss: 0.0352\n",
            "Epoch: 8, Batch index: 100, Loss: 0.0203\n",
            "Epoch: 8, Batch index: 200, Loss: 0.0329\n",
            "Epoch: 8, Batch index: 300, Loss: 0.0371\n",
            "Epoch: 8, Batch index: 400, Loss: 0.0723\n",
            "Epoch: 8, Batch index: 500, Loss: 0.0426\n",
            "Epoch: 8, Batch index: 600, Loss: 0.0311\n",
            "Epoch: 8, Batch index: 700, Loss: 0.0148\n",
            "Epoch: 8, Batch index: 800, Loss: 0.0118\n",
            "Epoch: 8, Batch index: 900, Loss: 0.0415\n",
            "Epoch: 8, Accuracy: 97.69%\n",
            "Epoch: 9, Batch index: 0, Loss: 0.0044\n",
            "Epoch: 9, Batch index: 100, Loss: 0.0157\n",
            "Epoch: 9, Batch index: 200, Loss: 0.0242\n",
            "Epoch: 9, Batch index: 300, Loss: 0.0442\n",
            "Epoch: 9, Batch index: 400, Loss: 0.0120\n",
            "Epoch: 9, Batch index: 500, Loss: 0.0192\n",
            "Epoch: 9, Batch index: 600, Loss: 0.0646\n",
            "Epoch: 9, Batch index: 700, Loss: 0.0159\n",
            "Epoch: 9, Batch index: 800, Loss: 0.0184\n",
            "Epoch: 9, Batch index: 900, Loss: 0.0545\n",
            "Epoch: 9, Accuracy: 97.55%\n"
          ]
        }
      ]
    },
    {
      "cell_type": "code",
      "source": [],
      "metadata": {
        "id": "5aVLcqZj4HVh"
      },
      "execution_count": null,
      "outputs": []
    }
  ]
}